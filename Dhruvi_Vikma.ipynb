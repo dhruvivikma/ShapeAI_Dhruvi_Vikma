{
  "nbformat": 4,
  "nbformat_minor": 0,
  "metadata": {
    "colab": {
      "name": "Dhruvi Vikma.ipynb",
      "provenance": [],
      "collapsed_sections": []
    },
    "kernelspec": {
      "name": "python3",
      "display_name": "Python 3"
    },
    "language_info": {
      "name": "python"
    }
  },
  "cells": [
    {
      "cell_type": "code",
      "metadata": {
        "id": "yxAa-SFMkUvL"
      },
      "source": [
        "from keras.datasets import mnist\n",
        "data = mnist.load_data()"
      ],
      "execution_count": 1,
      "outputs": []
    },
    {
      "cell_type": "code",
      "metadata": {
        "id": "-BCsXXdClVpE"
      },
      "source": [
        "((X_train, y_train), (X_test, y_test)) = data"
      ],
      "execution_count": 2,
      "outputs": []
    },
    {
      "cell_type": "code",
      "metadata": {
        "id": "9mQegfumnDdm"
      },
      "source": [
        "X_train = X_train.reshape((X_train.shape[0], 28*28)).astype('float32')\n",
        "X_test = X_test.reshape((X_test.shape[0], 28*28)).astype('float32')"
      ],
      "execution_count": 3,
      "outputs": []
    },
    {
      "cell_type": "code",
      "metadata": {
        "id": "Iy0jE7fqnbjB"
      },
      "source": [
        "X_train = X_train / 255\n",
        "X_test = X_test / 255"
      ],
      "execution_count": 4,
      "outputs": []
    },
    {
      "cell_type": "code",
      "metadata": {
        "colab": {
          "base_uri": "https://localhost:8080/"
        },
        "id": "cf14MwKlnsIP",
        "outputId": "cc0f92ec-44be-4c72-e0e6-ad6223cf127e"
      },
      "source": [
        "from keras.utils import np_utils\n",
        "print(y_test.shape)\n",
        "y_train = np_utils.to_categorical(y_train)\n",
        "y_test = np_utils.to_categorical(y_test)\n",
        "num_classes = y_test.shape[1]\n",
        "print(y_test.shape)"
      ],
      "execution_count": 8,
      "outputs": [
        {
          "output_type": "stream",
          "text": [
            "(10000,)\n",
            "(10000, 10)\n"
          ],
          "name": "stdout"
        }
      ]
    },
    {
      "cell_type": "code",
      "metadata": {
        "id": "SnIormM1otzX"
      },
      "source": [
        "from keras.models import Sequential\n",
        "from keras.layers import Dense"
      ],
      "execution_count": 6,
      "outputs": []
    },
    {
      "cell_type": "code",
      "metadata": {
        "id": "_f-YTddFpOHO"
      },
      "source": [
        "model = Sequential()\n",
        "model.add(Dense(32, input_dim = 28*28, activation = 'relu'))\n",
        "model.add(Dense(64, activation='relu'))\n",
        "model.add(Dense(10, activation='softmax'))"
      ],
      "execution_count": 7,
      "outputs": []
    },
    {
      "cell_type": "code",
      "metadata": {
        "id": "YC2HcaeipzBm"
      },
      "source": [
        "model.compile(loss='categorical_crossentropy', optimizer = 'adam', metrics=['accuracy'])"
      ],
      "execution_count": 10,
      "outputs": []
    },
    {
      "cell_type": "code",
      "metadata": {
        "colab": {
          "base_uri": "https://localhost:8080/"
        },
        "id": "hX0SsGX4qHcy",
        "outputId": "d653b029-5d10-44a5-aba4-494867be3d9a"
      },
      "source": [
        "model.summary() "
      ],
      "execution_count": 11,
      "outputs": [
        {
          "output_type": "stream",
          "text": [
            "Model: \"sequential\"\n",
            "_________________________________________________________________\n",
            "Layer (type)                 Output Shape              Param #   \n",
            "=================================================================\n",
            "dense (Dense)                (None, 32)                25120     \n",
            "_________________________________________________________________\n",
            "dense_1 (Dense)              (None, 64)                2112      \n",
            "_________________________________________________________________\n",
            "dense_2 (Dense)              (None, 10)                650       \n",
            "=================================================================\n",
            "Total params: 27,882\n",
            "Trainable params: 27,882\n",
            "Non-trainable params: 0\n",
            "_________________________________________________________________\n"
          ],
          "name": "stdout"
        }
      ]
    },
    {
      "cell_type": "code",
      "metadata": {
        "colab": {
          "base_uri": "https://localhost:8080/"
        },
        "id": "iZFoT_jvqOjE",
        "outputId": "f4ccd7d5-1899-404a-a150-ecbc493b1233"
      },
      "source": [
        "model.fit(X_train, y_train,epochs=10, batch_size=100)"
      ],
      "execution_count": 12,
      "outputs": [
        {
          "output_type": "stream",
          "text": [
            "Epoch 1/10\n",
            "600/600 [==============================] - 2s 3ms/step - loss: 0.7953 - accuracy: 0.7701\n",
            "Epoch 2/10\n",
            "600/600 [==============================] - 2s 3ms/step - loss: 0.2127 - accuracy: 0.9374\n",
            "Epoch 3/10\n",
            "600/600 [==============================] - 2s 3ms/step - loss: 0.1608 - accuracy: 0.9530\n",
            "Epoch 4/10\n",
            "600/600 [==============================] - 2s 3ms/step - loss: 0.1348 - accuracy: 0.9593\n",
            "Epoch 5/10\n",
            "600/600 [==============================] - 1s 2ms/step - loss: 0.1175 - accuracy: 0.9644\n",
            "Epoch 6/10\n",
            "600/600 [==============================] - 2s 2ms/step - loss: 0.1054 - accuracy: 0.9690\n",
            "Epoch 7/10\n",
            "600/600 [==============================] - 2s 3ms/step - loss: 0.0906 - accuracy: 0.9734\n",
            "Epoch 8/10\n",
            "600/600 [==============================] - 2s 3ms/step - loss: 0.0787 - accuracy: 0.9762\n",
            "Epoch 9/10\n",
            "600/600 [==============================] - 2s 3ms/step - loss: 0.0700 - accuracy: 0.9789\n",
            "Epoch 10/10\n",
            "600/600 [==============================] - 2s 3ms/step - loss: 0.0656 - accuracy: 0.9800\n"
          ],
          "name": "stdout"
        },
        {
          "output_type": "execute_result",
          "data": {
            "text/plain": [
              "<tensorflow.python.keras.callbacks.History at 0x7f2127938f90>"
            ]
          },
          "metadata": {
            "tags": []
          },
          "execution_count": 12
        }
      ]
    },
    {
      "cell_type": "code",
      "metadata": {
        "colab": {
          "base_uri": "https://localhost:8080/"
        },
        "id": "7SzuHO2Oq8Ek",
        "outputId": "00423473-6caa-4988-e109-3b7ed98a6bc1"
      },
      "source": [
        "scores = model.evaluate(X_test, y_test)\n",
        "print(scores)"
      ],
      "execution_count": 13,
      "outputs": [
        {
          "output_type": "stream",
          "text": [
            "313/313 [==============================] - 0s 1ms/step - loss: 0.1138 - accuracy: 0.9662\n",
            "[0.11381590366363525, 0.9661999940872192]\n"
          ],
          "name": "stdout"
        }
      ]
    }
  ]
}